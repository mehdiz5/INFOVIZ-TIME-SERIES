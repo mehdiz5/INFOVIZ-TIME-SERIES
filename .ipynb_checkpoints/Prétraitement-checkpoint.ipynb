{
 "cells": [
  {
   "cell_type": "markdown",
   "id": "8a64957d",
   "metadata": {},
   "source": [
    "# Prétraitement de données"
   ]
  },
  {
   "cell_type": "markdown",
   "id": "226f38d9",
   "metadata": {},
   "source": [
    "Dans ce notebook, on va effectuer un prétraitement sur les dataset \"mesume visitors\". Ce dataset va etre utilisé par la suite pour faire une visualization avec D3.js.\n",
    "\n",
    "Lien vers le dataset: https://www.kaggle.com/code/alexisbcook/line-charts/data?select=museum_visitors.csv"
   ]
  },
  {
   "cell_type": "code",
   "execution_count": 1,
   "id": "614b3fe4",
   "metadata": {},
   "outputs": [],
   "source": [
    "import pandas as pd\n",
    "import numpy as np"
   ]
  },
  {
   "cell_type": "code",
   "execution_count": 4,
   "id": "5b56b278",
   "metadata": {},
   "outputs": [
    {
     "data": {
      "text/html": [
       "<div>\n",
       "<style scoped>\n",
       "    .dataframe tbody tr th:only-of-type {\n",
       "        vertical-align: middle;\n",
       "    }\n",
       "\n",
       "    .dataframe tbody tr th {\n",
       "        vertical-align: top;\n",
       "    }\n",
       "\n",
       "    .dataframe thead th {\n",
       "        text-align: right;\n",
       "    }\n",
       "</style>\n",
       "<table border=\"1\" class=\"dataframe\">\n",
       "  <thead>\n",
       "    <tr style=\"text-align: right;\">\n",
       "      <th></th>\n",
       "      <th>Date</th>\n",
       "      <th>Avila Adobe</th>\n",
       "      <th>Firehouse Museum</th>\n",
       "      <th>Chinese American Museum</th>\n",
       "      <th>America Tropical Interpretive Center</th>\n",
       "    </tr>\n",
       "  </thead>\n",
       "  <tbody>\n",
       "    <tr>\n",
       "      <th>0</th>\n",
       "      <td>2014-01-01</td>\n",
       "      <td>24778</td>\n",
       "      <td>4486</td>\n",
       "      <td>1581</td>\n",
       "      <td>6602</td>\n",
       "    </tr>\n",
       "    <tr>\n",
       "      <th>1</th>\n",
       "      <td>2014-02-01</td>\n",
       "      <td>18976</td>\n",
       "      <td>4172</td>\n",
       "      <td>1785</td>\n",
       "      <td>5029</td>\n",
       "    </tr>\n",
       "    <tr>\n",
       "      <th>2</th>\n",
       "      <td>2014-03-01</td>\n",
       "      <td>25231</td>\n",
       "      <td>7082</td>\n",
       "      <td>3229</td>\n",
       "      <td>8129</td>\n",
       "    </tr>\n",
       "    <tr>\n",
       "      <th>3</th>\n",
       "      <td>2014-04-01</td>\n",
       "      <td>26989</td>\n",
       "      <td>6756</td>\n",
       "      <td>2129</td>\n",
       "      <td>2824</td>\n",
       "    </tr>\n",
       "    <tr>\n",
       "      <th>4</th>\n",
       "      <td>2014-05-01</td>\n",
       "      <td>36883</td>\n",
       "      <td>10858</td>\n",
       "      <td>3676</td>\n",
       "      <td>10694</td>\n",
       "    </tr>\n",
       "  </tbody>\n",
       "</table>\n",
       "</div>"
      ],
      "text/plain": [
       "         Date  Avila Adobe  Firehouse Museum  Chinese American Museum  \\\n",
       "0  2014-01-01        24778              4486                     1581   \n",
       "1  2014-02-01        18976              4172                     1785   \n",
       "2  2014-03-01        25231              7082                     3229   \n",
       "3  2014-04-01        26989              6756                     2129   \n",
       "4  2014-05-01        36883             10858                     3676   \n",
       "\n",
       "   America Tropical Interpretive Center  \n",
       "0                                  6602  \n",
       "1                                  5029  \n",
       "2                                  8129  \n",
       "3                                  2824  \n",
       "4                                 10694  "
      ]
     },
     "execution_count": 4,
     "metadata": {},
     "output_type": "execute_result"
    }
   ],
   "source": [
    "df = pd.read_csv(\"museum_visitors.csv\")\n",
    "df.head()"
   ]
  },
  {
   "cell_type": "code",
   "execution_count": 5,
   "id": "336e248e",
   "metadata": {},
   "outputs": [],
   "source": [
    "df.Date = df.Date.str.replace('-', '')"
   ]
  },
  {
   "cell_type": "code",
   "execution_count": 6,
   "id": "57258e8b",
   "metadata": {},
   "outputs": [
    {
     "data": {
      "text/html": [
       "<div>\n",
       "<style scoped>\n",
       "    .dataframe tbody tr th:only-of-type {\n",
       "        vertical-align: middle;\n",
       "    }\n",
       "\n",
       "    .dataframe tbody tr th {\n",
       "        vertical-align: top;\n",
       "    }\n",
       "\n",
       "    .dataframe thead th {\n",
       "        text-align: right;\n",
       "    }\n",
       "</style>\n",
       "<table border=\"1\" class=\"dataframe\">\n",
       "  <thead>\n",
       "    <tr style=\"text-align: right;\">\n",
       "      <th></th>\n",
       "      <th>Avila Adobe</th>\n",
       "      <th>Firehouse Museum</th>\n",
       "      <th>Chinese American Museum</th>\n",
       "      <th>America Tropical Interpretive Center</th>\n",
       "    </tr>\n",
       "  </thead>\n",
       "  <tbody>\n",
       "    <tr>\n",
       "      <th>count</th>\n",
       "      <td>59.000000</td>\n",
       "      <td>59.000000</td>\n",
       "      <td>59.000000</td>\n",
       "      <td>59.000000</td>\n",
       "    </tr>\n",
       "    <tr>\n",
       "      <th>mean</th>\n",
       "      <td>24061.661017</td>\n",
       "      <td>6472.830508</td>\n",
       "      <td>2721.254237</td>\n",
       "      <td>7107.016949</td>\n",
       "    </tr>\n",
       "    <tr>\n",
       "      <th>std</th>\n",
       "      <td>5948.997414</td>\n",
       "      <td>7471.196609</td>\n",
       "      <td>1165.585196</td>\n",
       "      <td>2561.671286</td>\n",
       "    </tr>\n",
       "    <tr>\n",
       "      <th>min</th>\n",
       "      <td>14035.000000</td>\n",
       "      <td>3306.000000</td>\n",
       "      <td>1073.000000</td>\n",
       "      <td>2824.000000</td>\n",
       "    </tr>\n",
       "    <tr>\n",
       "      <th>25%</th>\n",
       "      <td>19469.500000</td>\n",
       "      <td>4412.500000</td>\n",
       "      <td>2134.000000</td>\n",
       "      <td>5424.500000</td>\n",
       "    </tr>\n",
       "    <tr>\n",
       "      <th>50%</th>\n",
       "      <td>23136.000000</td>\n",
       "      <td>5181.000000</td>\n",
       "      <td>2419.000000</td>\n",
       "      <td>6602.000000</td>\n",
       "    </tr>\n",
       "    <tr>\n",
       "      <th>75%</th>\n",
       "      <td>27502.000000</td>\n",
       "      <td>6239.500000</td>\n",
       "      <td>2942.500000</td>\n",
       "      <td>7943.000000</td>\n",
       "    </tr>\n",
       "    <tr>\n",
       "      <th>max</th>\n",
       "      <td>41242.000000</td>\n",
       "      <td>61192.000000</td>\n",
       "      <td>7702.000000</td>\n",
       "      <td>13490.000000</td>\n",
       "    </tr>\n",
       "  </tbody>\n",
       "</table>\n",
       "</div>"
      ],
      "text/plain": [
       "        Avila Adobe  Firehouse Museum  Chinese American Museum  \\\n",
       "count     59.000000         59.000000                59.000000   \n",
       "mean   24061.661017       6472.830508              2721.254237   \n",
       "std     5948.997414       7471.196609              1165.585196   \n",
       "min    14035.000000       3306.000000              1073.000000   \n",
       "25%    19469.500000       4412.500000              2134.000000   \n",
       "50%    23136.000000       5181.000000              2419.000000   \n",
       "75%    27502.000000       6239.500000              2942.500000   \n",
       "max    41242.000000      61192.000000              7702.000000   \n",
       "\n",
       "       America Tropical Interpretive Center  \n",
       "count                             59.000000  \n",
       "mean                            7107.016949  \n",
       "std                             2561.671286  \n",
       "min                             2824.000000  \n",
       "25%                             5424.500000  \n",
       "50%                             6602.000000  \n",
       "75%                             7943.000000  \n",
       "max                            13490.000000  "
      ]
     },
     "execution_count": 6,
     "metadata": {},
     "output_type": "execute_result"
    }
   ],
   "source": [
    "df.describe()"
   ]
  },
  {
   "cell_type": "code",
   "execution_count": 7,
   "id": "6910b249",
   "metadata": {},
   "outputs": [],
   "source": [
    "df.Date = df.Date.astype('int')"
   ]
  },
  {
   "cell_type": "code",
   "execution_count": 8,
   "id": "d1afbb7f",
   "metadata": {
    "scrolled": true
   },
   "outputs": [
    {
     "name": "stdout",
     "output_type": "stream",
     "text": [
      "<class 'pandas.core.frame.DataFrame'>\n",
      "RangeIndex: 59 entries, 0 to 58\n",
      "Data columns (total 5 columns):\n",
      " #   Column                                Non-Null Count  Dtype\n",
      "---  ------                                --------------  -----\n",
      " 0   Date                                  59 non-null     int32\n",
      " 1   Avila Adobe                           59 non-null     int64\n",
      " 2   Firehouse Museum                      59 non-null     int64\n",
      " 3   Chinese American Museum               59 non-null     int64\n",
      " 4   America Tropical Interpretive Center  59 non-null     int64\n",
      "dtypes: int32(1), int64(4)\n",
      "memory usage: 2.2 KB\n"
     ]
    }
   ],
   "source": [
    "df.info()"
   ]
  },
  {
   "cell_type": "code",
   "execution_count": 9,
   "id": "72e2ae5e",
   "metadata": {},
   "outputs": [],
   "source": [
    "df.to_csv(\"dataset.csv\")"
   ]
  }
 ],
 "metadata": {
  "kernelspec": {
   "display_name": "Python 3 (ipykernel)",
   "language": "python",
   "name": "python3"
  },
  "language_info": {
   "codemirror_mode": {
    "name": "ipython",
    "version": 3
   },
   "file_extension": ".py",
   "mimetype": "text/x-python",
   "name": "python",
   "nbconvert_exporter": "python",
   "pygments_lexer": "ipython3",
   "version": "3.9.7"
  }
 },
 "nbformat": 4,
 "nbformat_minor": 5
}
